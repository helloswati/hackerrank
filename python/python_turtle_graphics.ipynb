{
 "cells": [
  {
   "cell_type": "code",
   "execution_count": 5,
   "id": "2e930cf5-1152-4f89-af06-70432d28cc32",
   "metadata": {},
   "outputs": [],
   "source": [
    "# sudo apt-get install python3-tk \n",
    "import tkinter as TK\n",
    "from turtle import *\n",
    "bgcolor(\"black\")\n",
    "speed(0)\n",
    "hideturtle()"
   ]
  },
  {
   "cell_type": "code",
   "execution_count": null,
   "id": "4aba7e1b-e8f7-4b6f-b24c-e5e71ed7a2d6",
   "metadata": {},
   "outputs": [],
   "source": [
    "for i in range(120):\n",
    "    color(\"red\")\n",
    "    circle(i)\n",
    "    color(\"orange\")\n",
    "    circle(i*0.8)\n",
    "    right(3)\n",
    "    forward(3)\n",
    "    \n",
    "done()"
   ]
  }
 ],
 "metadata": {
  "kernelspec": {
   "display_name": "Python 3 (ipykernel)",
   "language": "python",
   "name": "python3"
  },
  "language_info": {
   "codemirror_mode": {
    "name": "ipython",
    "version": 3
   },
   "file_extension": ".py",
   "mimetype": "text/x-python",
   "name": "python",
   "nbconvert_exporter": "python",
   "pygments_lexer": "ipython3",
   "version": "3.8.10"
  }
 },
 "nbformat": 4,
 "nbformat_minor": 5
}
